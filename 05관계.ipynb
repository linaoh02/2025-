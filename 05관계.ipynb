{
  "nbformat": 4,
  "nbformat_minor": 0,
  "metadata": {
    "colab": {
      "provenance": [],
      "authorship_tag": "ABX9TyPekFinqYTankeVOk/8rH+u",
      "include_colab_link": true
    },
    "kernelspec": {
      "name": "python3",
      "display_name": "Python 3"
    },
    "language_info": {
      "name": "python"
    }
  },
  "cells": [
    {
      "cell_type": "markdown",
      "metadata": {
        "id": "view-in-github",
        "colab_type": "text"
      },
      "source": [
        "<a href=\"https://colab.research.google.com/github/linaoh02/2025-/blob/main/05%EA%B4%80%EA%B3%84.ipynb\" target=\"_parent\"><img src=\"https://colab.research.google.com/assets/colab-badge.svg\" alt=\"Open In Colab\"/></a>"
      ]
    },
    {
      "cell_type": "code",
      "execution_count": 3,
      "metadata": {
        "id": "9fiwsMP4jcSh"
      },
      "outputs": [],
      "source": [
        "import numpy as np\n",
        "import networkx as nx\n",
        "import matplotlib.pyplot as plt"
      ]
    },
    {
      "cell_type": "markdown",
      "source": [
        "1)이항관계 예제"
      ],
      "metadata": {
        "id": "pYFlPfcVmHBG"
      }
    },
    {
      "cell_type": "code",
      "source": [
        "A = {1,2,3}\n",
        "B = {2,3,4}\n",
        "#A에서 B로 가는 이항 관계 R\n",
        "R={(1,2), (2,3), (3,2), (3,4)}\n",
        "\n",
        "print(\"관계 R:\", R)"
      ],
      "metadata": {
        "colab": {
          "base_uri": "https://localhost:8080/"
        },
        "id": "aaBNKAmBjqlA",
        "outputId": "a9cf8e04-8ea4-4968-f304-f42db27b7020"
      },
      "execution_count": 4,
      "outputs": [
        {
          "output_type": "stream",
          "name": "stdout",
          "text": [
            "관계 R: {(2, 3), (3, 2), (1, 2), (3, 4)}\n"
          ]
        }
      ]
    },
    {
      "cell_type": "markdown",
      "source": [
        "2)관계 행렬 표현"
      ],
      "metadata": {
        "id": "ueX_AKabmK_J"
      }
    },
    {
      "cell_type": "code",
      "source": [
        "A_list = sorted(A)\n",
        "B_list = sorted(B)\n",
        "\n",
        "relation_matrix = np.zeros((len(A_list), len(B_list)), dtype=int)\n",
        "\n",
        "for i, a in enumerate(A_list):\n",
        "    for j, b in enumerate(B_list):\n",
        "        if (a, b) in R:\n",
        "            relation_matrix[i, j] = 1\n",
        "\n",
        "print(\"관계 행렬(rows:A, columus: B):\")\n",
        "print(relation_matrix)"
      ],
      "metadata": {
        "colab": {
          "base_uri": "https://localhost:8080/"
        },
        "id": "rql_x0vVmFZq",
        "outputId": "446c681a-d5c6-42ec-d04c-4b9abecb91da"
      },
      "execution_count": 5,
      "outputs": [
        {
          "output_type": "stream",
          "name": "stdout",
          "text": [
            "관계 행렬(rows:A, columus: B):\n",
            "[[1 0 0]\n",
            " [0 1 0]\n",
            " [1 0 1]]\n"
          ]
        }
      ]
    },
    {
      "cell_type": "markdown",
      "source": [
        "3) 합성 관계 예제"
      ],
      "metadata": {
        "id": "qL_sS4Fvn0P5"
      }
    },
    {
      "cell_type": "code",
      "source": [
        "# R: A-> B\n",
        "# S: B -> C\n",
        "C = {'x', 'y'}\n",
        "S = {(2, 'x'), (3,'y'), (4, 'x')}\n",
        "\n",
        "#합성 관계 RºS\n",
        "composed_relation = set()\n",
        "\n",
        "for (a,b1) in R:\n",
        "  for (b2, c) in S:\n",
        "    if b1 == b2:\n",
        "      composed_relation.add((a,c))\n",
        "print(\"\\n 합성 관계 R○S: \", composed_relation)"
      ],
      "metadata": {
        "colab": {
          "base_uri": "https://localhost:8080/"
        },
        "id": "DRiBS4g-mP7q",
        "outputId": "7ae89ba9-10b6-4862-f1ac-6b0262b183f5"
      },
      "execution_count": 10,
      "outputs": [
        {
          "output_type": "stream",
          "name": "stdout",
          "text": [
            "\n",
            " 합성 관계 R○S:  {(1, 'x'), (3, 'x'), (2, 'y')}\n"
          ]
        }
      ]
    }
  ]
}