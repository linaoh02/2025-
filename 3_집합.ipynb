{
  "nbformat": 4,
  "nbformat_minor": 0,
  "metadata": {
    "colab": {
      "provenance": [],
      "authorship_tag": "ABX9TyOK3tbEQ7QOqwL8C0Ld8T4m",
      "include_colab_link": true
    },
    "kernelspec": {
      "name": "python3",
      "display_name": "Python 3"
    },
    "language_info": {
      "name": "python"
    }
  },
  "cells": [
    {
      "cell_type": "markdown",
      "metadata": {
        "id": "view-in-github",
        "colab_type": "text"
      },
      "source": [
        "<a href=\"https://colab.research.google.com/github/linaoh02/2025-/blob/main/3_%EC%A7%91%ED%95%A9.ipynb\" target=\"_parent\"><img src=\"https://colab.research.google.com/assets/colab-badge.svg\" alt=\"Open In Colab\"/></a>"
      ]
    },
    {
      "cell_type": "code",
      "source": [
        "print (\" hello world\")"
      ],
      "metadata": {
        "colab": {
          "base_uri": "https://localhost:8080/"
        },
        "id": "JcfkOX0p0K16",
        "outputId": "cee438f5-0feb-46fd-f767-de0e2058c5c8"
      },
      "execution_count": null,
      "outputs": [
        {
          "output_type": "stream",
          "name": "stdout",
          "text": [
            " hello woworld\n"
          ]
        }
      ]
    },
    {
      "cell_type": "code",
      "execution_count": null,
      "metadata": {
        "colab": {
          "base_uri": "https://localhost:8080/"
        },
        "id": "G2cvpHl3zDi1",
        "outputId": "c5a455fa-c5d6-405a-acc5-071f7e44d03d"
      },
      "outputs": [
        {
          "output_type": "stream",
          "name": "stdout",
          "text": [
            "{1, 2, 3}\n",
            "{2, 3, 4}\n",
            "{2, 3}\n",
            "{1, 2, 3, 4}\n",
            "{1}\n"
          ]
        }
      ],
      "source": [
        "s1 = set([1,2,3]) #집합{123}선언\n",
        "print(s1)\n",
        "s2= set ([2,3,4])\n",
        "print(s2)\n",
        "\n",
        "print(s1 & s2) ##교집합{2,3}\n",
        "print(s1| s2) ##합집합\n",
        "print(s1-s2) ##차집합"
      ]
    },
    {
      "cell_type": "markdown",
      "source": [
        "2. 두 은행의 고객 집합 합병"
      ],
      "metadata": {
        "id": "8DjmO5KtrPOS"
      }
    },
    {
      "cell_type": "code",
      "source": [
        "##두 은행의 고객 집합\n",
        "bankA_customers = set([\"김철수\",\"이영희\",\"박민수\",\"최지우\"])\n",
        "bankB_customers = set([\"이영희\",\"최지우\",\"정우성\",\"한지민\"])\n",
        "\n",
        "print(\"은행A 고객:\", bankA_customers)\n",
        "print(\"은행B 고객:\", bankB_customers)\n",
        "\n",
        "#두 은행의 전체 고객 집합(합집합)\n",
        "total_customers = bankA_customers | bankB_customers\n",
        "print(\"전체 고객:\", total_customers)\n",
        "\n",
        "#두 은행 모두에 있는 공통 고객(교집합)\n",
        "common_customers = bankA_customers & bankB_customers\n",
        "print(\"공통 고객:\", common_customers)\n",
        "\n",
        "#A은행에만 있는 고객(차집합)\n",
        "only_A_customers = bankA_customers - bankB_customers\n",
        "print(\"A 은행에만 있는 고객:\", only_A_customers)\n",
        "\n",
        "#B은행에만 있는 고객(차집합)\n",
        "only_B_customers = bankB_customers - bankA_customers\n",
        "print(\"B 은행에만 있는 고객:\", only_B_customers)"
      ],
      "metadata": {
        "colab": {
          "base_uri": "https://localhost:8080/"
        },
        "id": "SIHS-aO81vcq",
        "outputId": "05abf00f-fb72-48f9-a052-2712d8f0f8f2"
      },
      "execution_count": 1,
      "outputs": [
        {
          "output_type": "stream",
          "name": "stdout",
          "text": [
            "은행A 고객: {'이영희', '최지우', '김철수', '박민수'}\n",
            "은행B 고객: {'이영희', '최지우', '정우성', '한지민'}\n",
            "전체 고객: {'김철수', '최지우', '박민수', '한지민', '이영희', '정우성'}\n",
            "공통 고객: {'이영희', '최지우'}\n",
            "A 은행에만 있는 고객: {'김철수', '박민수'}\n",
            "B 은행에만 있는 고객: {'정우성', '한지민'}\n"
          ]
        }
      ]
    },
    {
      "cell_type": "markdown",
      "source": [
        "\n",
        "3. 임의의 입력 색상을 받아, 12가지 파버카스텔 색연필 색상 집합에서 가장 가까운 색상으로 매핑\n",
        "\n"
      ],
      "metadata": {
        "id": "4ncI1jfNq6Pt"
      }
    },
    {
      "cell_type": "code",
      "source": [
        "import numpy as np\n",
        "\n",
        "#12가지 파버카스텔 색연필 색상 집합(RGB값 예시)\n",
        "faber_castell_colors = {\n",
        "    \"White\" : (255, 255, 255),\n",
        "    \"Black\" : (0, 0, 0),\n",
        "    \"Brown\" : (150, 75, 0),\n",
        "    \"Orange\" : (225, 127, 0),\n",
        "    \"Red\" : (255, 0, 0),\n",
        "    \"Yellow\" : (255, 255, 0),\n",
        "    \"Light Green\" : (0, 255, 0),\n",
        "    \"Green\" : (0, 255, 0),\n",
        "    \"Blue\" : (0, 0, 255),\n",
        "    \"Purple\" : (127, 0, 255),\n",
        "    \"Pink\" : (255, 192, 203)\n",
        "}\n",
        "\n",
        "#입력 색상 (예:사용자 입력값)\n",
        "input_color = (150, 75, 0)\n",
        "\n",
        "def find_nearest_color(input_color, color_set):\n",
        "    min_distance = float('inf')\n",
        "    nearest_name = None\n",
        "\n",
        "    for name, rgb in color_set.items():\n",
        "        dist = np.linalg.norm(np.array(input_color) - np.array(rgb))\n",
        "        if dist < min_distance:\n",
        "            min_distance = dist\n",
        "            nearest_name = name\n",
        "    return nearest_name, color_set[nearest_name]\n",
        "\n",
        "nearest_name, nearest_rgb = find_nearest_color(input_color, faber_castell_colors)\n",
        "\n",
        "print(f\"입력 색상: {input_color}\")\n",
        "print(f\"가장 가까운 파버카스텔 색상: {nearest_name} ({nearest_rgb})\")"
      ],
      "metadata": {
        "colab": {
          "base_uri": "https://localhost:8080/"
        },
        "id": "T-_-swCFsOQA",
        "outputId": "6e139bfa-5ded-40de-85ca-4bb841f95d98"
      },
      "execution_count": 8,
      "outputs": [
        {
          "output_type": "stream",
          "name": "stdout",
          "text": [
            "입력 색상: (150, 75, 0)\n",
            "가장 가까운 파버카스텔 색상: Brown ((150, 75, 0))\n"
          ]
        }
      ]
    }
  ]
}