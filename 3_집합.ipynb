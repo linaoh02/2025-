{
  "nbformat": 4,
  "nbformat_minor": 0,
  "metadata": {
    "colab": {
      "provenance": [],
      "authorship_tag": "ABX9TyM+PSI08AvFE5IzUz29dPgw",
      "include_colab_link": true
    },
    "kernelspec": {
      "name": "python3",
      "display_name": "Python 3"
    },
    "language_info": {
      "name": "python"
    }
  },
  "cells": [
    {
      "cell_type": "markdown",
      "metadata": {
        "id": "view-in-github",
        "colab_type": "text"
      },
      "source": [
        "<a href=\"https://colab.research.google.com/github/linaoh02/2025-/blob/main/3_%EC%A7%91%ED%95%A9.ipynb\" target=\"_parent\"><img src=\"https://colab.research.google.com/assets/colab-badge.svg\" alt=\"Open In Colab\"/></a>"
      ]
    },
    {
      "cell_type": "code",
      "source": [
        "print (\" hello woworld\")"
      ],
      "metadata": {
        "colab": {
          "base_uri": "https://localhost:8080/"
        },
        "id": "JcfkOX0p0K16",
        "outputId": "cee438f5-0feb-46fd-f767-de0e2058c5c8"
      },
      "execution_count": 2,
      "outputs": [
        {
          "output_type": "stream",
          "name": "stdout",
          "text": [
            " hello woworld\n"
          ]
        }
      ]
    },
    {
      "cell_type": "code",
      "execution_count": 3,
      "metadata": {
        "colab": {
          "base_uri": "https://localhost:8080/"
        },
        "id": "G2cvpHl3zDi1",
        "outputId": "c5a455fa-c5d6-405a-acc5-071f7e44d03d"
      },
      "outputs": [
        {
          "output_type": "stream",
          "name": "stdout",
          "text": [
            "{1, 2, 3}\n",
            "{2, 3, 4}\n",
            "{2, 3}\n",
            "{1, 2, 3, 4}\n",
            "{1}\n"
          ]
        }
      ],
      "source": [
        "s1 = set([1,2,3]) #집합{123}선언\n",
        "print(s1)\n",
        "s2= set ([2,3,4])\n",
        "print(s2)\n",
        "\n",
        "print(s1 & s2) ##교집합{2,3}\n",
        "print(s1| s2) ##합집합\n",
        "print(s1-s2) ##차집합"
      ]
    },
    {
      "cell_type": "code",
      "source": [
        "##두 은행의 고객 집합\n",
        "bankA_customers = set([\"김철수\",\"이영희\",\"박민수\",\"최지우\"])\n",
        "bankB_customers = set([\"이영희\",\"최지우\",\"정우성\",\"한지민\"])\n",
        "\n",
        "print(\"은행A고객:\", bankA_customers)\n",
        "print(\"은행B고객:\", bankB_customers)\n",
        "\n",
        "#  ㄱ기깃깃ㅎ깃허깃헙깃허브 뉴 ㄹ레파지토리 addreadme 반드시 on\n"
      ],
      "metadata": {
        "colab": {
          "base_uri": "https://localhost:8080/"
        },
        "id": "SIHS-aO81vcq",
        "outputId": "5003c7a9-6827-4b6a-bac5-93302f97a956"
      },
      "execution_count": 6,
      "outputs": [
        {
          "output_type": "stream",
          "name": "stdout",
          "text": [
            "은행A고객: {'이영희', '김철수', '박민수', '최지우'}\n",
            "은행B고객: {'이영희', '한지민', '정우성', '최지우'}\n"
          ]
        }
      ]
    }
  ]
}